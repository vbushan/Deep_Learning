{
 "cells": [
  {
   "cell_type": "markdown",
   "metadata": {
    "id": "mDxGhYHkF8Pp"
   },
   "source": [
    "Unpack the data from the pickle files"
   ]
  },
  {
   "cell_type": "code",
   "execution_count": null,
   "metadata": {
    "id": "V62CUDn2dl0x"
   },
   "outputs": [],
   "source": [
    "import pickle\n",
    "import tensorflow as tf"
   ]
  },
  {
   "cell_type": "code",
   "execution_count": null,
   "metadata": {
    "id": "Y3FE3fUreRo1"
   },
   "outputs": [],
   "source": [
    "with open('hw4_trs.pkl','rb') as file:\n",
    "  tr_data=pickle.load(file)\n",
    "\n",
    "with open('hw4_tes.pkl','rb') as file:\n",
    "  te_data=pickle.load(file)"
   ]
  },
  {
   "cell_type": "code",
   "execution_count": null,
   "metadata": {
    "colab": {
     "base_uri": "https://localhost:8080/"
    },
    "id": "rOw6GcsDqTHu",
    "outputId": "be5d28b0-090a-4af9-f05b-7f526f52e19c"
   },
   "outputs": [
    {
     "data": {
      "text/plain": [
       "((500, 16180), (200, 22631))"
      ]
     },
     "execution_count": 274,
     "metadata": {
      "tags": []
     },
     "output_type": "execute_result"
    }
   ],
   "source": [
    "tr_data.shape,te_data.shape"
   ]
  },
  {
   "cell_type": "markdown",
   "metadata": {
    "id": "5hc0yqOWGQjp"
   },
   "source": [
    "Compute the magnitude spectrum for all the rows in the training and test audio files"
   ]
  },
  {
   "cell_type": "code",
   "execution_count": null,
   "metadata": {
    "id": "kl9ZXJpt8wJC"
   },
   "outputs": [],
   "source": [
    "import librosa\n",
    "import numpy as np\n",
    "\n",
    "tr_spect=[]\n",
    "for i in range(len(tr_data)):\n",
    "  tr_spect.append(np.abs(librosa.stft(tr_data[i], n_fft=1024, hop_length=512)))"
   ]
  },
  {
   "cell_type": "code",
   "execution_count": null,
   "metadata": {
    "id": "cxPLLcKT9JdU"
   },
   "outputs": [],
   "source": [
    "te_spect=[]\n",
    "for i in range(len(te_data)):\n",
    "  te_spect.append(np.abs(librosa.stft(te_data[i], n_fft=1024, hop_length=512)))"
   ]
  },
  {
   "cell_type": "code",
   "execution_count": null,
   "metadata": {
    "id": "IT6Ru5m39Q07"
   },
   "outputs": [],
   "source": [
    "\n",
    "tr_data=np.array(tr_spect)\n",
    "te_data=np.array(te_spect)\n"
   ]
  },
  {
   "cell_type": "code",
   "execution_count": null,
   "metadata": {
    "colab": {
     "base_uri": "https://localhost:8080/"
    },
    "id": "4NjIAq2SThEs",
    "outputId": "4f3540db-c7fb-4292-eda7-da355f5c192f"
   },
   "outputs": [
    {
     "data": {
      "text/plain": [
       "((500, 513, 32), (200, 513, 45))"
      ]
     },
     "execution_count": 278,
     "metadata": {
      "tags": []
     },
     "output_type": "execute_result"
    }
   ],
   "source": [
    "tr_data.shape,te_data.shape"
   ]
  },
  {
   "cell_type": "markdown",
   "metadata": {
    "id": "1Z3W2vAmGh-O"
   },
   "source": [
    "Prepare the training and test datasets for our model. Both the datasets contain pairs of magnitude spectrums. Each Pair represent either a posive or negative training pair samples. \n"
   ]
  },
  {
   "cell_type": "code",
   "execution_count": null,
   "metadata": {
    "id": "GX1o9xn5rfDo"
   },
   "outputs": [],
   "source": [
    "\n",
    "def preprocess(data):\n",
    "  input_1=[]\n",
    "  input_2=[]\n",
    "  labels=[]\n",
    "\n",
    "\n",
    "  for i in range(0,len(data),10):\n",
    "    positive_x1=data[np.random.choice(list(range(i,i+10)),size=45,replace=True)]\n",
    "    positive_x2=data[np.random.choice(list(range(i,i+10)),size=45,replace=True)]\n",
    "\n",
    "    negative_x1=data[np.random.choice(list(range(i,i+10)),size=45,replace=True)]\n",
    "    negative_x2=data[np.random.choice(list(range(0,i))+list(range(i+10,len(data))),size=45,replace=False)]\n",
    "\n",
    "    if len(input_1)!=0 and len(input_2)!=0 and len(labels)!=0:\n",
    "      input_1=np.concatenate((input_1,positive_x1,negative_x1))\n",
    "      input_2=np.concatenate((input_2,positive_x2,negative_x2))\n",
    "\n",
    "      labels=np.concatenate((labels,np.ones((45,1)),np.zeros((45,1))))  \n",
    "\n",
    "    else:\n",
    "      input_1=np.concatenate((positive_x1,negative_x1))\n",
    "      input_2=np.concatenate((positive_x2,negative_x2))\n",
    "\n",
    "      labels=np.concatenate((np.ones((45,1)),np.zeros((45,1))))\n",
    "\n",
    "  return input_1,input_2,labels  \n",
    "\n"
   ]
  },
  {
   "cell_type": "code",
   "execution_count": null,
   "metadata": {
    "id": "5lHkc8wLC6XC"
   },
   "outputs": [],
   "source": [
    "tr_input_1,tr_input_2,tr_labels=preprocess(tr_data)"
   ]
  },
  {
   "cell_type": "code",
   "execution_count": null,
   "metadata": {
    "colab": {
     "base_uri": "https://localhost:8080/"
    },
    "id": "I6_7i9Vp0usF",
    "outputId": "ca397157-d1e6-4890-8016-8070a9a02a51"
   },
   "outputs": [
    {
     "data": {
      "text/plain": [
       "((4500, 513, 32), (4500, 513, 32), (4500, 1))"
      ]
     },
     "execution_count": 281,
     "metadata": {
      "tags": []
     },
     "output_type": "execute_result"
    }
   ],
   "source": [
    "tr_input_1.shape,tr_input_2.shape,tr_labels.shape"
   ]
  },
  {
   "cell_type": "code",
   "execution_count": null,
   "metadata": {
    "id": "ke5vRJfH_mdr"
   },
   "outputs": [],
   "source": [
    "te_input_1,te_input_2,te_labels=preprocess(te_data)"
   ]
  },
  {
   "cell_type": "code",
   "execution_count": null,
   "metadata": {
    "colab": {
     "base_uri": "https://localhost:8080/"
    },
    "id": "XbFcIm1I8jaA",
    "outputId": "ae13c233-e0ce-4476-9e76-75c8c99af586"
   },
   "outputs": [
    {
     "data": {
      "text/plain": [
       "((1800, 513, 45), (1800, 513, 45), (1800, 1))"
      ]
     },
     "execution_count": 283,
     "metadata": {
      "tags": []
     },
     "output_type": "execute_result"
    }
   ],
   "source": [
    "te_input_1.shape,te_input_2.shape,te_labels.shape"
   ]
  },
  {
   "cell_type": "markdown",
   "metadata": {
    "id": "RY3vGks1IVIF"
   },
   "source": [
    "The training set has data of 50 speakers each with 10 recordings. So, I created 45 positive and 45 negative sample pairs for each speaker. Therefore, we will have 50*(45+45)=4500 samples each with 513 frequency components and 32 time steps(45 time steps for test) in the pairs.\n",
    "\n",
    "**Note:** I do not create a batch of samples for each speaker here. Instead I pass the batch size as 90 in the training loop."
   ]
  },
  {
   "cell_type": "markdown",
   "metadata": {
    "id": "7xZUdVdVRu7_"
   },
   "source": [
    "Time to build the model. The Siamese network has two sister networks which compute the embeddings for the pair of inputs. The dot product of both these embeddings are passed through a logistic function to compute whether or not the samples belong to the same person.\n",
    "\n",
    "In the following cells, I have will build a helper function to generate the sister networks of our Siamese Model, and then I will use the embeddings from each of these newtworks to generate the label."
   ]
  },
  {
   "cell_type": "code",
   "execution_count": null,
   "metadata": {
    "id": "CmoPcUjVDVNo"
   },
   "outputs": [],
   "source": [
    "from tensorflow.keras.models import Model\n",
    "from tensorflow.keras.layers import Input\n",
    "from tensorflow.keras.layers import Conv2D\n",
    "from tensorflow.keras.layers import Dense\n",
    "from tensorflow.keras.layers import Flatten\n",
    "from tensorflow.keras.layers import Dropout,LSTM\n",
    "from tensorflow.keras.layers import Lambda\n",
    "from tensorflow.keras.optimizers import Adam\n",
    "\n",
    "from tensorflow.keras.layers import GlobalAveragePooling2D\n",
    "from tensorflow.keras.layers import MaxPooling2D"
   ]
  },
  {
   "cell_type": "code",
   "execution_count": null,
   "metadata": {
    "id": "KFm58A83DqTn"
   },
   "outputs": [],
   "source": [
    "def build_sister_model(inputShape, embeddingDim=48):\n",
    "  inputs = Input(inputShape)\n",
    "  x = LSTM(activation='tanh',units=64,return_sequences=False,name='layer_1')(inputs)\n",
    "  outputs = Dense(units=embeddingDim,activation='relu',kernel_initializer='HeNormal')(x)\n",
    "  model = Model(inputs, outputs)\n",
    "  return model"
   ]
  },
  {
   "cell_type": "code",
   "execution_count": null,
   "metadata": {
    "id": "lsUztNviEBoE"
   },
   "outputs": [],
   "source": [
    "imgA = Input((None,513))\n",
    "imgB = Input((None,513))\n",
    "\n",
    "embeddingsExtractor = build_sister_model((None,513))\n",
    "\n",
    "featsA = embeddingsExtractor(imgA)\n",
    "featsB = embeddingsExtractor(imgB)"
   ]
  },
  {
   "cell_type": "code",
   "execution_count": null,
   "metadata": {
    "id": "R1TDTFPZXGh8"
   },
   "outputs": [],
   "source": [
    "distance=tf.expand_dims(tf.reduce_sum(tf.multiply(featsA, featsB),axis=1),axis=-1)"
   ]
  },
  {
   "cell_type": "code",
   "execution_count": null,
   "metadata": {
    "id": "W3g80FQGHgOV"
   },
   "outputs": [],
   "source": [
    "outputs = Dense(1, activation=\"sigmoid\",kernel_initializer='GlorotNormal')(distance)\n",
    "model = Model(inputs=[imgA, imgB], outputs=outputs)"
   ]
  },
  {
   "cell_type": "code",
   "execution_count": null,
   "metadata": {
    "id": "QfyBJ_uAH1fM"
   },
   "outputs": [],
   "source": [
    "model.compile(loss=\"binary_crossentropy\", optimizer=Adam(),\n",
    "\tmetrics=[\"accuracy\"])"
   ]
  },
  {
   "cell_type": "code",
   "execution_count": null,
   "metadata": {
    "colab": {
     "base_uri": "https://localhost:8080/"
    },
    "id": "SQNnSzf0Ipit",
    "outputId": "f17ed15c-2fb5-450b-e5d9-a707eea9e952"
   },
   "outputs": [
    {
     "data": {
      "text/plain": [
       "(4500, 513, 32)"
      ]
     },
     "execution_count": 291,
     "metadata": {
      "tags": []
     },
     "output_type": "execute_result"
    }
   ],
   "source": [
    "tr_input_1.shape"
   ]
  },
  {
   "cell_type": "code",
   "execution_count": null,
   "metadata": {
    "id": "br2yGphLJOgN"
   },
   "outputs": [],
   "source": [
    "tr_input_1=np.transpose(tr_input_1,axes=(0,2,1))\n",
    "tr_input_2=np.transpose(tr_input_2,axes=(0,2,1))\n",
    "te_input_1=np.transpose(te_input_1,axes=(0,2,1))\n",
    "te_input_2=np.transpose(te_input_2,axes=(0,2,1))"
   ]
  },
  {
   "cell_type": "code",
   "execution_count": null,
   "metadata": {
    "colab": {
     "base_uri": "https://localhost:8080/"
    },
    "id": "d3IaSFQhJ1Sj",
    "outputId": "a009b380-0e8d-43f0-caa9-61af1bc19608"
   },
   "outputs": [
    {
     "data": {
      "text/plain": [
       "(4500, 32, 513)"
      ]
     },
     "execution_count": 293,
     "metadata": {
      "tags": []
     },
     "output_type": "execute_result"
    }
   ],
   "source": [
    "tr_input_1.shape"
   ]
  },
  {
   "cell_type": "code",
   "execution_count": null,
   "metadata": {
    "colab": {
     "base_uri": "https://localhost:8080/"
    },
    "id": "r7yYwlFNz9Q0",
    "outputId": "ec696a6c-90d1-4299-9bb9-a6b5148b40f6"
   },
   "outputs": [
    {
     "name": "stdout",
     "output_type": "stream",
     "text": [
      "Model: \"functional_27\"\n",
      "__________________________________________________________________________________________________\n",
      "Layer (type)                    Output Shape         Param #     Connected to                     \n",
      "==================================================================================================\n",
      "input_19 (InputLayer)           [(None, None, 513)]  0                                            \n",
      "__________________________________________________________________________________________________\n",
      "input_20 (InputLayer)           [(None, None, 513)]  0                                            \n",
      "__________________________________________________________________________________________________\n",
      "functional_25 (Functional)      (None, 48)           151088      input_19[0][0]                   \n",
      "                                                                 input_20[0][0]                   \n",
      "__________________________________________________________________________________________________\n",
      "tf_op_layer_Mul_12 (TensorFlowO [(None, 48)]         0           functional_25[0][0]              \n",
      "                                                                 functional_25[1][0]              \n",
      "__________________________________________________________________________________________________\n",
      "tf_op_layer_Sum_11 (TensorFlowO [(None,)]            0           tf_op_layer_Mul_12[0][0]         \n",
      "__________________________________________________________________________________________________\n",
      "tf_op_layer_ExpandDims_8 (Tenso [(None, 1)]          0           tf_op_layer_Sum_11[0][0]         \n",
      "__________________________________________________________________________________________________\n",
      "dense_15 (Dense)                (None, 1)            2           tf_op_layer_ExpandDims_8[0][0]   \n",
      "==================================================================================================\n",
      "Total params: 151,090\n",
      "Trainable params: 151,090\n",
      "Non-trainable params: 0\n",
      "__________________________________________________________________________________________________\n"
     ]
    }
   ],
   "source": [
    "model.summary()"
   ]
  },
  {
   "cell_type": "markdown",
   "metadata": {
    "id": "62Ifm9qzf6Nw"
   },
   "source": [
    "Now, lets plot the model to check if our architecture is right- "
   ]
  },
  {
   "cell_type": "code",
   "execution_count": null,
   "metadata": {
    "colab": {
     "base_uri": "https://localhost:8080/",
     "height": 564
    },
    "id": "2_ope3Xu0Awk",
    "outputId": "fa4f110a-6805-40e6-cd06-51f6dcfe9e66"
   },
   "outputs": [
    {
     "data": {
      "image/png": "[encoded data removed]",
      "text/plain": [
       "<IPython.core.display.Image object>"
      ]
     },
     "execution_count": 295,
     "metadata": {
      "tags": []
     },
     "output_type": "execute_result"
    }
   ],
   "source": [
    "tf.keras.utils.plot_model(model)"
   ]
  },
  {
   "cell_type": "markdown",
   "metadata": {
    "id": "zehZI5S3gO5e"
   },
   "source": [
    "Now, lets train the model. We also pass the validation set to evaluate our model during training."
   ]
  },
  {
   "cell_type": "code",
   "execution_count": null,
   "metadata": {
    "colab": {
     "base_uri": "https://localhost:8080/"
    },
    "id": "6G_yPNHpH87K",
    "outputId": "a70a70b0-ffd3-43d5-85d0-b9b24ac0b8b9"
   },
   "outputs": [
    {
     "name": "stdout",
     "output_type": "stream",
     "text": [
      "Epoch 1/100\n",
      "50/50 [==============================] - 1s 29ms/step - loss: 0.6903 - accuracy: 0.5129 - val_loss: 0.6804 - val_accuracy: 0.5544\n",
      "Epoch 2/100\n",
      "50/50 [==============================] - 1s 15ms/step - loss: 0.6521 - accuracy: 0.5956 - val_loss: 0.6712 - val_accuracy: 0.5911\n",
      "Epoch 3/100\n",
      "50/50 [==============================] - 1s 15ms/step - loss: 0.6115 - accuracy: 0.6742 - val_loss: 0.6554 - val_accuracy: 0.6228\n",
      "Epoch 4/100\n",
      "50/50 [==============================] - 1s 15ms/step - loss: 0.5619 - accuracy: 0.7484 - val_loss: 0.6433 - val_accuracy: 0.6589\n",
      "Epoch 5/100\n",
      "50/50 [==============================] - 1s 15ms/step - loss: 0.5198 - accuracy: 0.8029 - val_loss: 0.6371 - val_accuracy: 0.6861\n",
      "Epoch 6/100\n",
      "50/50 [==============================] - 1s 15ms/step - loss: 0.4764 - accuracy: 0.8393 - val_loss: 0.6122 - val_accuracy: 0.6878\n",
      "Epoch 7/100\n",
      "50/50 [==============================] - 1s 15ms/step - loss: 0.4374 - accuracy: 0.8736 - val_loss: 0.6206 - val_accuracy: 0.6989\n",
      "Epoch 8/100\n",
      "50/50 [==============================] - 1s 16ms/step - loss: 0.4088 - accuracy: 0.8891 - val_loss: 0.6109 - val_accuracy: 0.7217\n",
      "Epoch 9/100\n",
      "50/50 [==============================] - 1s 16ms/step - loss: 0.3808 - accuracy: 0.9027 - val_loss: 0.6151 - val_accuracy: 0.6861\n",
      "Epoch 10/100\n",
      "50/50 [==============================] - 1s 16ms/step - loss: 0.3576 - accuracy: 0.9127 - val_loss: 0.6033 - val_accuracy: 0.7056\n",
      "Epoch 11/100\n",
      "50/50 [==============================] - 1s 17ms/step - loss: 0.3331 - accuracy: 0.9251 - val_loss: 0.6209 - val_accuracy: 0.7033\n",
      "Epoch 12/100\n",
      "50/50 [==============================] - 1s 16ms/step - loss: 0.3117 - accuracy: 0.9398 - val_loss: 0.6042 - val_accuracy: 0.6950\n",
      "Epoch 13/100\n",
      "50/50 [==============================] - 1s 16ms/step - loss: 0.2920 - accuracy: 0.9476 - val_loss: 0.6160 - val_accuracy: 0.6861\n",
      "Epoch 14/100\n",
      "50/50 [==============================] - 1s 17ms/step - loss: 0.2757 - accuracy: 0.9522 - val_loss: 0.6156 - val_accuracy: 0.6983\n",
      "Epoch 15/100\n",
      "50/50 [==============================] - 1s 16ms/step - loss: 0.2639 - accuracy: 0.9562 - val_loss: 0.6221 - val_accuracy: 0.6633\n",
      "Epoch 16/100\n",
      "50/50 [==============================] - 1s 15ms/step - loss: 0.2523 - accuracy: 0.9591 - val_loss: 0.6102 - val_accuracy: 0.6833\n",
      "Epoch 17/100\n",
      "50/50 [==============================] - 1s 15ms/step - loss: 0.2337 - accuracy: 0.9669 - val_loss: 0.6086 - val_accuracy: 0.6956\n",
      "Epoch 18/100\n",
      "50/50 [==============================] - 1s 16ms/step - loss: 0.2208 - accuracy: 0.9716 - val_loss: 0.6022 - val_accuracy: 0.7083\n",
      "Epoch 19/100\n",
      "50/50 [==============================] - 1s 16ms/step - loss: 0.2127 - accuracy: 0.9722 - val_loss: 0.6100 - val_accuracy: 0.7139\n",
      "Epoch 20/100\n",
      "50/50 [==============================] - 1s 16ms/step - loss: 0.2028 - accuracy: 0.9787 - val_loss: 0.6284 - val_accuracy: 0.6967\n",
      "Epoch 21/100\n",
      "50/50 [==============================] - 1s 15ms/step - loss: 0.1938 - accuracy: 0.9778 - val_loss: 0.6142 - val_accuracy: 0.7100\n",
      "Epoch 22/100\n",
      "50/50 [==============================] - 1s 15ms/step - loss: 0.1870 - accuracy: 0.9780 - val_loss: 0.6267 - val_accuracy: 0.7089\n",
      "Epoch 23/100\n",
      "50/50 [==============================] - 1s 15ms/step - loss: 0.1804 - accuracy: 0.9791 - val_loss: 0.6207 - val_accuracy: 0.7217\n",
      "Epoch 24/100\n",
      "50/50 [==============================] - 1s 15ms/step - loss: 0.1691 - accuracy: 0.9824 - val_loss: 0.6405 - val_accuracy: 0.7050\n",
      "Epoch 25/100\n",
      "50/50 [==============================] - 1s 15ms/step - loss: 0.1635 - accuracy: 0.9836 - val_loss: 0.6474 - val_accuracy: 0.6911\n",
      "Epoch 26/100\n",
      "50/50 [==============================] - 1s 15ms/step - loss: 0.1600 - accuracy: 0.9831 - val_loss: 0.6191 - val_accuracy: 0.7089\n",
      "Epoch 27/100\n",
      "50/50 [==============================] - 1s 15ms/step - loss: 0.1500 - accuracy: 0.9862 - val_loss: 0.6369 - val_accuracy: 0.7056\n",
      "Epoch 28/100\n",
      "50/50 [==============================] - 1s 15ms/step - loss: 0.1431 - accuracy: 0.9882 - val_loss: 0.6413 - val_accuracy: 0.6956\n",
      "Epoch 29/100\n",
      "50/50 [==============================] - 1s 15ms/step - loss: 0.1372 - accuracy: 0.9880 - val_loss: 0.6560 - val_accuracy: 0.7028\n",
      "Epoch 30/100\n",
      "50/50 [==============================] - 1s 16ms/step - loss: 0.1324 - accuracy: 0.9884 - val_loss: 0.6550 - val_accuracy: 0.6811\n",
      "Epoch 31/100\n",
      "50/50 [==============================] - 1s 16ms/step - loss: 0.1288 - accuracy: 0.9898 - val_loss: 0.6862 - val_accuracy: 0.6728\n",
      "Epoch 32/100\n",
      "50/50 [==============================] - 1s 15ms/step - loss: 0.1272 - accuracy: 0.9889 - val_loss: 0.6827 - val_accuracy: 0.6761\n",
      "Epoch 33/100\n",
      "50/50 [==============================] - 1s 16ms/step - loss: 0.1217 - accuracy: 0.9902 - val_loss: 0.6884 - val_accuracy: 0.6811\n",
      "Epoch 34/100\n",
      "50/50 [==============================] - 1s 15ms/step - loss: 0.1172 - accuracy: 0.9900 - val_loss: 0.6731 - val_accuracy: 0.6922\n",
      "Epoch 35/100\n",
      "50/50 [==============================] - 1s 15ms/step - loss: 0.1161 - accuracy: 0.9900 - val_loss: 0.6885 - val_accuracy: 0.6728\n",
      "Epoch 36/100\n",
      "50/50 [==============================] - 1s 16ms/step - loss: 0.1134 - accuracy: 0.9909 - val_loss: 0.7010 - val_accuracy: 0.6883\n",
      "Epoch 37/100\n",
      "50/50 [==============================] - 1s 15ms/step - loss: 0.1094 - accuracy: 0.9896 - val_loss: 0.7042 - val_accuracy: 0.6867\n",
      "Epoch 38/100\n",
      "50/50 [==============================] - 1s 16ms/step - loss: 0.1035 - accuracy: 0.9918 - val_loss: 0.7236 - val_accuracy: 0.6894\n",
      "Epoch 39/100\n",
      "50/50 [==============================] - 1s 16ms/step - loss: 0.0999 - accuracy: 0.9913 - val_loss: 0.7265 - val_accuracy: 0.6822\n",
      "Epoch 40/100\n",
      "50/50 [==============================] - 1s 16ms/step - loss: 0.0976 - accuracy: 0.9922 - val_loss: 0.7391 - val_accuracy: 0.6844\n",
      "Epoch 41/100\n",
      "50/50 [==============================] - 1s 17ms/step - loss: 0.0957 - accuracy: 0.9920 - val_loss: 0.7319 - val_accuracy: 0.6844\n",
      "Epoch 42/100\n",
      "50/50 [==============================] - 1s 16ms/step - loss: 0.0940 - accuracy: 0.9916 - val_loss: 0.7669 - val_accuracy: 0.6833\n",
      "Epoch 43/100\n",
      "50/50 [==============================] - 1s 16ms/step - loss: 0.0898 - accuracy: 0.9929 - val_loss: 0.7463 - val_accuracy: 0.6822\n",
      "Epoch 44/100\n",
      "50/50 [==============================] - 1s 15ms/step - loss: 0.0877 - accuracy: 0.9924 - val_loss: 0.7416 - val_accuracy: 0.6917\n",
      "Epoch 45/100\n",
      "50/50 [==============================] - 1s 16ms/step - loss: 0.0843 - accuracy: 0.9936 - val_loss: 0.7297 - val_accuracy: 0.6994\n",
      "Epoch 46/100\n",
      "50/50 [==============================] - 1s 15ms/step - loss: 0.0895 - accuracy: 0.9896 - val_loss: 0.8178 - val_accuracy: 0.6617\n",
      "Epoch 47/100\n",
      "50/50 [==============================] - 1s 16ms/step - loss: 0.0998 - accuracy: 0.9860 - val_loss: 0.7575 - val_accuracy: 0.6478\n",
      "Epoch 48/100\n",
      "50/50 [==============================] - 1s 16ms/step - loss: 0.0813 - accuracy: 0.9933 - val_loss: 0.7495 - val_accuracy: 0.6700\n",
      "Epoch 49/100\n",
      "50/50 [==============================] - 1s 16ms/step - loss: 0.0769 - accuracy: 0.9938 - val_loss: 0.7515 - val_accuracy: 0.6650\n",
      "Epoch 50/100\n",
      "50/50 [==============================] - 1s 15ms/step - loss: 0.0740 - accuracy: 0.9938 - val_loss: 0.7592 - val_accuracy: 0.6661\n",
      "Epoch 51/100\n",
      "50/50 [==============================] - 1s 15ms/step - loss: 0.0733 - accuracy: 0.9949 - val_loss: 0.7659 - val_accuracy: 0.6672\n",
      "Epoch 52/100\n",
      "50/50 [==============================] - 1s 15ms/step - loss: 0.0707 - accuracy: 0.9949 - val_loss: 0.7752 - val_accuracy: 0.6711\n",
      "Epoch 53/100\n",
      "50/50 [==============================] - 1s 16ms/step - loss: 0.0689 - accuracy: 0.9942 - val_loss: 0.7776 - val_accuracy: 0.6700\n",
      "Epoch 54/100\n",
      "50/50 [==============================] - 1s 15ms/step - loss: 0.0678 - accuracy: 0.9942 - val_loss: 0.7901 - val_accuracy: 0.6817\n",
      "Epoch 55/100\n",
      "50/50 [==============================] - 1s 16ms/step - loss: 0.0675 - accuracy: 0.9942 - val_loss: 0.7932 - val_accuracy: 0.6861\n",
      "Epoch 56/100\n",
      "50/50 [==============================] - 1s 15ms/step - loss: 0.0670 - accuracy: 0.9940 - val_loss: 0.8125 - val_accuracy: 0.6806\n",
      "Epoch 57/100\n",
      "50/50 [==============================] - 1s 16ms/step - loss: 0.0667 - accuracy: 0.9938 - val_loss: 0.8006 - val_accuracy: 0.6872\n",
      "Epoch 58/100\n",
      "50/50 [==============================] - 1s 16ms/step - loss: 0.0630 - accuracy: 0.9949 - val_loss: 0.8212 - val_accuracy: 0.6856\n",
      "Epoch 59/100\n",
      "50/50 [==============================] - 1s 16ms/step - loss: 0.0606 - accuracy: 0.9949 - val_loss: 0.8121 - val_accuracy: 0.6844\n",
      "Epoch 60/100\n",
      "50/50 [==============================] - 1s 15ms/step - loss: 0.0592 - accuracy: 0.9949 - val_loss: 0.8183 - val_accuracy: 0.6850\n",
      "Epoch 61/100\n",
      "50/50 [==============================] - 1s 16ms/step - loss: 0.0574 - accuracy: 0.9953 - val_loss: 0.8242 - val_accuracy: 0.6883\n",
      "Epoch 62/100\n",
      "50/50 [==============================] - 1s 16ms/step - loss: 0.0567 - accuracy: 0.9947 - val_loss: 0.8244 - val_accuracy: 0.6939\n",
      "Epoch 63/100\n",
      "50/50 [==============================] - 1s 15ms/step - loss: 0.0554 - accuracy: 0.9949 - val_loss: 0.8161 - val_accuracy: 0.6911\n",
      "Epoch 64/100\n",
      "50/50 [==============================] - 1s 15ms/step - loss: 0.0548 - accuracy: 0.9958 - val_loss: 0.8264 - val_accuracy: 0.6961\n",
      "Epoch 65/100\n",
      "50/50 [==============================] - 1s 15ms/step - loss: 0.0535 - accuracy: 0.9949 - val_loss: 0.8606 - val_accuracy: 0.6889\n",
      "Epoch 66/100\n",
      "50/50 [==============================] - 1s 15ms/step - loss: 0.0521 - accuracy: 0.9951 - val_loss: 0.8557 - val_accuracy: 0.6850\n",
      "Epoch 67/100\n",
      "50/50 [==============================] - 1s 15ms/step - loss: 0.0510 - accuracy: 0.9951 - val_loss: 0.8524 - val_accuracy: 0.6794\n",
      "Epoch 68/100\n",
      "50/50 [==============================] - 1s 15ms/step - loss: 0.0505 - accuracy: 0.9958 - val_loss: 0.8589 - val_accuracy: 0.6961\n",
      "Epoch 69/100\n",
      "50/50 [==============================] - 1s 15ms/step - loss: 0.0533 - accuracy: 0.9944 - val_loss: 0.8763 - val_accuracy: 0.6689\n",
      "Epoch 70/100\n",
      "50/50 [==============================] - 1s 15ms/step - loss: 0.0547 - accuracy: 0.9936 - val_loss: 0.9485 - val_accuracy: 0.6711\n",
      "Epoch 71/100\n",
      "50/50 [==============================] - 1s 17ms/step - loss: 0.0670 - accuracy: 0.9869 - val_loss: 0.9129 - val_accuracy: 0.6683\n",
      "Epoch 72/100\n",
      "50/50 [==============================] - 1s 15ms/step - loss: 0.0653 - accuracy: 0.9882 - val_loss: 0.8124 - val_accuracy: 0.6911\n",
      "Epoch 73/100\n",
      "50/50 [==============================] - 1s 15ms/step - loss: 0.0740 - accuracy: 0.9851 - val_loss: 0.8641 - val_accuracy: 0.6406\n",
      "Epoch 74/100\n",
      "50/50 [==============================] - 1s 16ms/step - loss: 0.0798 - accuracy: 0.9831 - val_loss: 0.8913 - val_accuracy: 0.6694\n",
      "Epoch 75/100\n",
      "50/50 [==============================] - 1s 16ms/step - loss: 0.0640 - accuracy: 0.9887 - val_loss: 0.9097 - val_accuracy: 0.6550\n",
      "Epoch 76/100\n",
      "50/50 [==============================] - 1s 15ms/step - loss: 0.0499 - accuracy: 0.9942 - val_loss: 0.9375 - val_accuracy: 0.6406\n",
      "Epoch 77/100\n",
      "50/50 [==============================] - 1s 15ms/step - loss: 0.0445 - accuracy: 0.9949 - val_loss: 0.9211 - val_accuracy: 0.6489\n",
      "Epoch 78/100\n",
      "50/50 [==============================] - 1s 15ms/step - loss: 0.0422 - accuracy: 0.9958 - val_loss: 0.9102 - val_accuracy: 0.6833\n",
      "Epoch 79/100\n",
      "50/50 [==============================] - 1s 16ms/step - loss: 0.0413 - accuracy: 0.9958 - val_loss: 0.9099 - val_accuracy: 0.6678\n",
      "Epoch 80/100\n",
      "50/50 [==============================] - 1s 16ms/step - loss: 0.0394 - accuracy: 0.9958 - val_loss: 0.9354 - val_accuracy: 0.6617\n",
      "Epoch 81/100\n",
      "50/50 [==============================] - 1s 16ms/step - loss: 0.0382 - accuracy: 0.9962 - val_loss: 0.9203 - val_accuracy: 0.6650\n",
      "Epoch 82/100\n",
      "50/50 [==============================] - 1s 16ms/step - loss: 0.0374 - accuracy: 0.9962 - val_loss: 0.9273 - val_accuracy: 0.6628\n",
      "Epoch 83/100\n",
      "50/50 [==============================] - 1s 15ms/step - loss: 0.0363 - accuracy: 0.9967 - val_loss: 0.9269 - val_accuracy: 0.6667\n",
      "Epoch 84/100\n",
      "50/50 [==============================] - 1s 17ms/step - loss: 0.0356 - accuracy: 0.9964 - val_loss: 0.9458 - val_accuracy: 0.6650\n",
      "Epoch 85/100\n",
      "50/50 [==============================] - 1s 16ms/step - loss: 0.0350 - accuracy: 0.9967 - val_loss: 0.9396 - val_accuracy: 0.6700\n",
      "Epoch 86/100\n",
      "50/50 [==============================] - 1s 16ms/step - loss: 0.0341 - accuracy: 0.9969 - val_loss: 0.9583 - val_accuracy: 0.6672\n",
      "Epoch 87/100\n",
      "50/50 [==============================] - 1s 15ms/step - loss: 0.0333 - accuracy: 0.9976 - val_loss: 0.9379 - val_accuracy: 0.6772\n",
      "Epoch 88/100\n",
      "50/50 [==============================] - 1s 15ms/step - loss: 0.0329 - accuracy: 0.9971 - val_loss: 0.9595 - val_accuracy: 0.6689\n",
      "Epoch 89/100\n",
      "50/50 [==============================] - 1s 16ms/step - loss: 0.0321 - accuracy: 0.9976 - val_loss: 0.9622 - val_accuracy: 0.6739\n",
      "Epoch 90/100\n",
      "50/50 [==============================] - 1s 16ms/step - loss: 0.0316 - accuracy: 0.9973 - val_loss: 0.9796 - val_accuracy: 0.6711\n",
      "Epoch 91/100\n",
      "50/50 [==============================] - 1s 16ms/step - loss: 0.0310 - accuracy: 0.9973 - val_loss: 0.9719 - val_accuracy: 0.6722\n",
      "Epoch 92/100\n",
      "50/50 [==============================] - 1s 15ms/step - loss: 0.0304 - accuracy: 0.9973 - val_loss: 0.9819 - val_accuracy: 0.6767\n",
      "Epoch 93/100\n",
      "50/50 [==============================] - 1s 16ms/step - loss: 0.0300 - accuracy: 0.9976 - val_loss: 0.9878 - val_accuracy: 0.6794\n",
      "Epoch 94/100\n",
      "50/50 [==============================] - 1s 15ms/step - loss: 0.0296 - accuracy: 0.9973 - val_loss: 0.9817 - val_accuracy: 0.6789\n",
      "Epoch 95/100\n",
      "50/50 [==============================] - 1s 15ms/step - loss: 0.0292 - accuracy: 0.9973 - val_loss: 0.9964 - val_accuracy: 0.6778\n",
      "Epoch 96/100\n",
      "50/50 [==============================] - 1s 16ms/step - loss: 0.0287 - accuracy: 0.9976 - val_loss: 0.9939 - val_accuracy: 0.6750\n",
      "Epoch 97/100\n",
      "50/50 [==============================] - 1s 15ms/step - loss: 0.0284 - accuracy: 0.9973 - val_loss: 1.0190 - val_accuracy: 0.6767\n",
      "Epoch 98/100\n",
      "50/50 [==============================] - 1s 16ms/step - loss: 0.0280 - accuracy: 0.9973 - val_loss: 0.9895 - val_accuracy: 0.6728\n",
      "Epoch 99/100\n",
      "50/50 [==============================] - 1s 16ms/step - loss: 0.0275 - accuracy: 0.9973 - val_loss: 1.0053 - val_accuracy: 0.6839\n",
      "Epoch 100/100\n",
      "50/50 [==============================] - 1s 16ms/step - loss: 0.0272 - accuracy: 0.9976 - val_loss: 0.9984 - val_accuracy: 0.6767\n"
     ]
    }
   ],
   "source": [
    "history = model.fit(\n",
    "\t[tr_input_1, tr_input_2], tr_labels,\n",
    "\tvalidation_data=([te_input_1,te_input_2], te_labels),\n",
    "\tbatch_size=90, \n",
    "\tepochs=100\n",
    "  )"
   ]
  },
  {
   "cell_type": "markdown",
   "metadata": {
    "id": "vlum6P63gZGo"
   },
   "source": [
    "From the above training logs we can see that our model overfits the data. But, the validation accuracy is close to 70%"
   ]
  },
  {
   "cell_type": "code",
   "execution_count": null,
   "metadata": {
    "id": "h7LeicR8eOk7"
   },
   "outputs": [],
   "source": [
    "test_acc=(sum((model.predict([te_input_1,te_input_2])>=0.5)==te_labels)/len(te_labels))[0]*100"
   ]
  },
  {
   "cell_type": "markdown",
   "metadata": {
    "id": "O4eAISs6gpPB"
   },
   "source": [
    "Final Validation Accuracy-"
   ]
  },
  {
   "cell_type": "code",
   "execution_count": null,
   "metadata": {
    "colab": {
     "base_uri": "https://localhost:8080/"
    },
    "id": "HO1Xwiu6e5CR",
    "outputId": "426ee8b4-d3be-44d7-a185-851934f99580"
   },
   "outputs": [
    {
     "name": "stdout",
     "output_type": "stream",
     "text": [
      "Final Test Accuracy 67.67\n"
     ]
    }
   ],
   "source": [
    "print(f'Final Test Accuracy {round(test_acc,2)}')"
   ]
  }
 ],
 "metadata": {
  "accelerator": "GPU",
  "colab": {
   "collapsed_sections": [],
   "name": "DL Assignment 4 Question 1 Final.ipynb",
   "provenance": []
  },
  "kernelspec": {
   "display_name": "Python 3",
   "language": "python",
   "name": "python3"
  },
  "language_info": {
   "codemirror_mode": {
    "name": "ipython",
    "version": 3
   },
   "file_extension": ".py",
   "mimetype": "text/x-python",
   "name": "python",
   "nbconvert_exporter": "python",
   "pygments_lexer": "ipython3",
   "version": "3.7.3"
  }
 },
 "nbformat": 4,
 "nbformat_minor": 1
}
